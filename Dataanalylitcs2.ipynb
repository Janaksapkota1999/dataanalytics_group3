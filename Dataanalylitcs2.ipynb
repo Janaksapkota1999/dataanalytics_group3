{
 "cells": [
  {
   "cell_type": "code",
   "execution_count": 17,
   "id": "4cce1635-2f91-45d8-8a48-b45368b2e2b1",
   "metadata": {
    "scrolled": true
   },
   "outputs": [
    {
     "data": {
      "text/html": [
       "<div>\n",
       "<style scoped>\n",
       "    .dataframe tbody tr th:only-of-type {\n",
       "        vertical-align: middle;\n",
       "    }\n",
       "\n",
       "    .dataframe tbody tr th {\n",
       "        vertical-align: top;\n",
       "    }\n",
       "\n",
       "    .dataframe thead th {\n",
       "        text-align: right;\n",
       "    }\n",
       "</style>\n",
       "<table border=\"1\" class=\"dataframe\">\n",
       "  <thead>\n",
       "    <tr style=\"text-align: right;\">\n",
       "      <th></th>\n",
       "      <th>Employment income statistics</th>\n",
       "      <th>Total - Employment income statistics</th>\n",
       "      <th>With employment income</th>\n",
       "      <th>Median employment income ($)</th>\n",
       "      <th>Average employment income ($)</th>\n",
       "      <th>With wages, salaries and commissions</th>\n",
       "      <th>Median wages, salaries and commissions ($)</th>\n",
       "      <th>Average wages, salaries and commissions ($)</th>\n",
       "    </tr>\n",
       "  </thead>\n",
       "  <tbody>\n",
       "    <tr>\n",
       "      <th>0</th>\n",
       "      <td>Total - Major field of study - Classification ...</td>\n",
       "      <td>30,335,920</td>\n",
       "      <td>21,242,575</td>\n",
       "      <td>38,000</td>\n",
       "      <td>50,560</td>\n",
       "      <td>19,687,795</td>\n",
       "      <td>40,000</td>\n",
       "      <td>51,750</td>\n",
       "    </tr>\n",
       "    <tr>\n",
       "      <th>1</th>\n",
       "      <td>No postsecondary certificate, diploma or degree</td>\n",
       "      <td>12,996,875</td>\n",
       "      <td>7,586,345</td>\n",
       "      <td>25,800</td>\n",
       "      <td>34,720</td>\n",
       "      <td>7,001,560</td>\n",
       "      <td>27,200</td>\n",
       "      <td>35,720</td>\n",
       "    </tr>\n",
       "    <tr>\n",
       "      <th>2</th>\n",
       "      <td>Education</td>\n",
       "      <td>1,113,015</td>\n",
       "      <td>784,135</td>\n",
       "      <td>51,600</td>\n",
       "      <td>54,850</td>\n",
       "      <td>740,870</td>\n",
       "      <td>54,400</td>\n",
       "      <td>56,800</td>\n",
       "    </tr>\n",
       "    <tr>\n",
       "      <th>3</th>\n",
       "      <td>13. Education</td>\n",
       "      <td>1,113,015</td>\n",
       "      <td>784,135</td>\n",
       "      <td>51,600</td>\n",
       "      <td>54,850</td>\n",
       "      <td>740,870</td>\n",
       "      <td>54,400</td>\n",
       "      <td>56,800</td>\n",
       "    </tr>\n",
       "    <tr>\n",
       "      <th>4</th>\n",
       "      <td>13.01 Education, general</td>\n",
       "      <td>670,515</td>\n",
       "      <td>450,170</td>\n",
       "      <td>57,200</td>\n",
       "      <td>57,300</td>\n",
       "      <td>424,835</td>\n",
       "      <td>60,400</td>\n",
       "      <td>59,500</td>\n",
       "    </tr>\n",
       "  </tbody>\n",
       "</table>\n",
       "</div>"
      ],
      "text/plain": [
       "                        Employment income statistics  \\\n",
       "0  Total - Major field of study - Classification ...   \n",
       "1    No postsecondary certificate, diploma or degree   \n",
       "2                                          Education   \n",
       "3                                      13. Education   \n",
       "4                           13.01 Education, general   \n",
       "\n",
       "  Total - Employment income statistics With employment income  \\\n",
       "0                           30,335,920             21,242,575   \n",
       "1                           12,996,875              7,586,345   \n",
       "2                            1,113,015                784,135   \n",
       "3                            1,113,015                784,135   \n",
       "4                              670,515                450,170   \n",
       "\n",
       "  Median employment income ($) Average employment income ($)  \\\n",
       "0                       38,000                        50,560   \n",
       "1                       25,800                        34,720   \n",
       "2                       51,600                        54,850   \n",
       "3                       51,600                        54,850   \n",
       "4                       57,200                        57,300   \n",
       "\n",
       "  With wages, salaries and commissions  \\\n",
       "0                           19,687,795   \n",
       "1                            7,001,560   \n",
       "2                              740,870   \n",
       "3                              740,870   \n",
       "4                              424,835   \n",
       "\n",
       "  Median wages, salaries and commissions ($)  \\\n",
       "0                                     40,000   \n",
       "1                                     27,200   \n",
       "2                                     54,400   \n",
       "3                                     54,400   \n",
       "4                                     60,400   \n",
       "\n",
       "  Average wages, salaries and commissions ($)  \n",
       "0                                      51,750  \n",
       "1                                      35,720  \n",
       "2                                      56,800  \n",
       "3                                      56,800  \n",
       "4                                      59,500  "
      ]
     },
     "execution_count": 17,
     "metadata": {},
     "output_type": "execute_result"
    }
   ],
   "source": [
    "import matplotlib.pyplot as plt\n",
    "import seaborn as sns\n",
    "import pandas as pd\n",
    "df = pd.read_csv ('downloads/Data_Manipulation/Employment Statistics.csv')\n",
    "df.head()"
   ]
  },
  {
   "cell_type": "code",
   "execution_count": 38,
   "id": "97cc6cb8-68a2-4208-966d-33247bf4a92f",
   "metadata": {},
   "outputs": [
    {
     "name": "stdout",
     "output_type": "stream",
     "text": [
      "\n",
      "Descriptive statistics:\n",
      "                             Employment income statistics  \\\n",
      "count                                                 500   \n",
      "unique                                                500   \n",
      "top     Total - Major field of study - Classification ...   \n",
      "freq                                                    1   \n",
      "\n",
      "       Total - Employment income statistics With employment income  \\\n",
      "count                                   500                    500   \n",
      "unique                                  456                    448   \n",
      "top                                       0                      0   \n",
      "freq                                      6                      8   \n",
      "\n",
      "       Median employment income ($) Average employment income ($)  \\\n",
      "count                           500                           500   \n",
      "unique                          170                           388   \n",
      "top                          53,600                           ...   \n",
      "freq                             10                             8   \n",
      "\n",
      "       With wages, salaries and commissions  \\\n",
      "count                                   500   \n",
      "unique                                  444   \n",
      "top                                       0   \n",
      "freq                                     10   \n",
      "\n",
      "       Median wages, salaries and commissions ($)  \\\n",
      "count                                         500   \n",
      "unique                                        159   \n",
      "top                                           ...   \n",
      "freq                                           10   \n",
      "\n",
      "       Average wages, salaries and commissions ($)  \n",
      "count                                          500  \n",
      "unique                                         400  \n",
      "top                                            ...  \n",
      "freq                                            10  \n"
     ]
    }
   ],
   "source": [
    "print(\"\\nDescriptive statistics:\")\n",
    "print(df.describe())"
   ]
  },
  {
   "cell_type": "code",
   "execution_count": 37,
   "id": "38a32859-966e-40ea-8dbb-0cc0cf286988",
   "metadata": {},
   "outputs": [
    {
     "name": "stdout",
     "output_type": "stream",
     "text": [
      "No postsecondary certificate, diploma or degree\n",
      " Median wages, salaries and commissions ($)     27,200\n",
      "Average wages, salaries and commissions ($)    35,720\n",
      "Name: 1, dtype: object\n"
     ]
    }
   ],
   "source": [
    "df.head()\n",
    "new = df.iloc[1, 6:]\n",
    "print(\"No postsecondary certificate, diploma or degree\\n\",new)"
   ]
  },
  {
   "cell_type": "code",
   "execution_count": null,
   "id": "4e78846f-e9a5-4788-b015-13fc62c9f1c7",
   "metadata": {},
   "outputs": [],
   "source": [
    "// people with No postsecondary certificate, diploma or degree are earning above estimated Money annually"
   ]
  },
  {
   "cell_type": "code",
   "execution_count": 42,
   "id": "b9725758-0e63-4d8a-820d-6d588ecbd027",
   "metadata": {},
   "outputs": [
    {
     "data": {
      "image/png": "[encoded data removed]",
      "text/plain": [
       "<Figure size 640x480 with 1 Axes>"
      ]
     },
     "metadata": {},
     "output_type": "display_data"
    }
   ],
   "source": [
    "\n",
    "# Visualizing the distribution of average employment income\n",
    "plt.hist(df['Average employment income ($)'], bins=20)\n",
    "plt.title('Distribution of Average Employment Income')\n",
    "plt.xlabel('Average Employment Income ($)')\n",
    "plt.ylabel('Frequency')\n",
    "plt.show()"
   ]
  },
  {
   "cell_type": "code",
   "execution_count": null,
   "id": "ab7c59d1-515a-428e-8f37-ac1f194c5e01",
   "metadata": {},
   "outputs": [],
   "source": []
  }
 ],
 "metadata": {
  "kernelspec": {
   "display_name": "Python 3 (ipykernel)",
   "language": "python",
   "name": "python3"
  },
  "language_info": {
   "codemirror_mode": {
    "name": "ipython",
    "version": 3
   },
   "file_extension": ".py",
   "mimetype": "text/x-python",
   "name": "python",
   "nbconvert_exporter": "python",
   "pygments_lexer": "ipython3",
   "version": "3.11.5"
  }
 },
 "nbformat": 4,
 "nbformat_minor": 5
}
